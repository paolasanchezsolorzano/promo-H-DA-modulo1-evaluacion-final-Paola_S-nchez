{
 "cells": [
  {
   "cell_type": "code",
   "execution_count": 78,
   "metadata": {},
   "outputs": [],
   "source": [
    "class TiendaOnline:\n",
    "    def __init__(self):\n",
    "     # Lista de diccionarios de productos, Diccionario de clientes,Ventas totales.\n",
    "        self.inventario = []\n",
    "        self.clientes = {}  \n",
    "        self.ventas_totales = 0.0  \n",
    "\n",
    "    def agregar_producto(self, nombre, precio, cantidad):            \n",
    "        for articulo in self.inventario:\n",
    "            if articulo.get(\"nombre\") == nombre: # get, para buscar el valor de esta clave en especifico\n",
    "                articulo[\"cantidad\"] += cantidad\n",
    "            if articulo  not in  self.inventario:\n",
    "                articulo_nuevo = {\"nombre\": nombre,\"precio\":precio,\"cantidad\": cantidad}\n",
    "                self.inventario.append(articulo_nuevo)\n",
    "                return f\"articulo {nombre} agregado al inventario\"\n",
    "\n",
    "  \n",
    "    \n",
    "    def ver_inventario(self): \n",
    "    # Muestra el inventario de articulos.\n",
    "       \n",
    "        for articulo in self.inventario:\n",
    "            return f\"Nombre:{articulo[nombre]}, Precio: ${articulo[precio]}, Cantidad: {articulo[cantidad]}\"\n",
    "            \n",
    "            \n",
    "    def buscar_articulo(self, nombre): \n",
    "        # Busca un producto en el inventario por nombre.\n",
    "        for articulo in self.inventario:\n",
    "            if articulo[\"nombre\"] == nombre:\n",
    "                return f\"self.inventario contiene:{articulo[nombre]},{articulo[cantidad]},{articulo[ precio]}\"\n",
    "                break\n",
    "        else:\n",
    "            print(f\"El producto '{nombre}' no está en el inventario.\")\n",
    "            \n",
    "    def actualizar_stock(self,nombre,cantidad):\n",
    "    #debe recibir el nombre y cantidad del articulo, para agregar o quitar.\n",
    "        for articulo in self.inventario:\n",
    "            if articulo[\"nombre\"] == nombre:\n",
    "                articulo[\"cantidad\"] += cantidad\n",
    "            else:\n",
    "                return f\"el articulo{articulo} no esta en el diccionario\"\n",
    "            \n",
    "    def eliminar_producto(self,nombre):\n",
    "    #Elimina un producto del inventario por nombre.\n",
    "        for articulo in self.inventario:\n",
    "            if articulo[\"nombre\"] == nombre:\n",
    "                self.inventario.remove[articulo]\n",
    "            else:\n",
    "                return f\"el articulo no esta en el inventario\"\n",
    "    \n",
    "    def calcular_valor_inventario(self):\n",
    "        valor_total_inventario = 0.0\n",
    "    #Calcula y muestra el valor total del inventario.\n",
    "        for articulo in self.inventario:\n",
    "            valor_total_inventario = 0.0            \n",
    "            valor_articulo = articulo[precio] * articulo[cantidad]\n",
    "            valor_total_inventario += valor_articulo\n",
    "            print( f\"valor total del inventario es:$ {valor_total_inventario}\")\n",
    "    \n",
    "    def realizar_compra(self):\n",
    "    # Permite a un cliente realizar una compra seleccionando productos del inventario.\n",
    "        carrito = {}\n",
    "        valor_total = 0.0\n",
    "        while True:\n",
    "            print(f\"Bienvenido, los productos dentro de nuestro inventario son: {self.inventario}\")\n",
    "            su_eleccion = input(\"ingrese el articulo que desea llevar o escriba 'salir' para cerrar la pagina\").lower()\n",
    "            seleccione_una_cantidad =int(input(\"ingrese una cantidad\"))\n",
    "            \n",
    "            if su_eleccion == \"salir\":\n",
    "                break\n",
    "            \n",
    "            for articulo in su_eleccion:\n",
    "                carrito[su_eleccion] = cantidad\n",
    "            \n",
    "            for articulo, cantidad in carrito.items():\n",
    "                valor_unidad = self.buscar_producto(articulo)[\"precio\"]\n",
    "                valor_total += valor_unidad * cantidad\n",
    "                return f\"Valor total de tu compra: {valor_total}\"\n",
    "        \n",
    "                \n",
    "    def registrar_cliente(self, nombre, email):\n",
    "    # crear un historial de compras vacío para el cliente.               \n",
    "        self.clientes[nombre] = {'email': email, 'compras': []}\n",
    "        \n",
    "    \n",
    "\n",
    "   \n",
    "\n"
   ]
  },
  {
   "cell_type": "code",
   "execution_count": null,
   "metadata": {},
   "outputs": [],
   "source": []
  },
  {
   "cell_type": "code",
   "execution_count": 79,
   "metadata": {},
   "outputs": [],
   "source": [
    "meloss = TiendaOnline()\n",
    "meloss.agregar_producto(\"camisa\",10,30)\n",
    "meloss.agregar_producto(\"pantalones\",45,30)\n",
    "meloss.agregar_producto(\"camisa\",10,30)"
   ]
  },
  {
   "cell_type": "code",
   "execution_count": 80,
   "metadata": {},
   "outputs": [
    {
     "data": {
      "text/plain": [
       "[]"
      ]
     },
     "execution_count": 80,
     "metadata": {},
     "output_type": "execute_result"
    }
   ],
   "source": [
    "meloss.inventario"
   ]
  },
  {
   "cell_type": "code",
   "execution_count": 81,
   "metadata": {},
   "outputs": [
    {
     "name": "stdout",
     "output_type": "stream",
     "text": [
      "El producto 'camisa' no está en el inventario.\n"
     ]
    }
   ],
   "source": [
    "meloss.buscar_articulo(\"camisa\")"
   ]
  },
  {
   "cell_type": "code",
   "execution_count": 82,
   "metadata": {},
   "outputs": [],
   "source": [
    "meloss.actualizar_stock(\"camisa\",30)"
   ]
  },
  {
   "cell_type": "code",
   "execution_count": 83,
   "metadata": {},
   "outputs": [],
   "source": [
    "meloss.eliminar_producto(\"sombreros\")"
   ]
  },
  {
   "cell_type": "code",
   "execution_count": 76,
   "metadata": {},
   "outputs": [],
   "source": [
    "meloss.calcular_valor_inventario()"
   ]
  },
  {
   "cell_type": "code",
   "execution_count": 72,
   "metadata": {},
   "outputs": [
    {
     "name": "stdout",
     "output_type": "stream",
     "text": [
      "Bienvenido, los productos dentro de nuestro inventario son: []\n"
     ]
    }
   ],
   "source": [
    "meloss.realizar_compra()\n",
    "\n"
   ]
  },
  {
   "cell_type": "code",
   "execution_count": 74,
   "metadata": {},
   "outputs": [],
   "source": [
    "meloss.ver_inventario()"
   ]
  },
  {
   "cell_type": "code",
   "execution_count": 88,
   "metadata": {},
   "outputs": [],
   "source": [
    "meloss.registrar_cliente(\"Marta\", \"marta_lop@hotmail.com\")"
   ]
  },
  {
   "cell_type": "code",
   "execution_count": 89,
   "metadata": {},
   "outputs": [
    {
     "data": {
      "text/plain": [
       "{'inventario': [],\n",
       " 'clientes': {'Marta': {'email': 'marta_lop@hotmail.com', 'compras': []}},\n",
       " 'ventas_totales': 0.0}"
      ]
     },
     "execution_count": 89,
     "metadata": {},
     "output_type": "execute_result"
    }
   ],
   "source": [
    "meloss.__dict__"
   ]
  }
 ],
 "metadata": {
  "kernelspec": {
   "display_name": "base",
   "language": "python",
   "name": "python3"
  },
  "language_info": {
   "codemirror_mode": {
    "name": "ipython",
    "version": 3
   },
   "file_extension": ".py",
   "mimetype": "text/x-python",
   "name": "python",
   "nbconvert_exporter": "python",
   "pygments_lexer": "ipython3",
   "version": "3.9.7"
  }
 },
 "nbformat": 4,
 "nbformat_minor": 2
}
